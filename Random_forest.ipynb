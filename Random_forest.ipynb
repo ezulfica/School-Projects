{
  "nbformat": 4,
  "nbformat_minor": 0,
  "metadata": {
    "colab": {
      "name": "Random forest.ipynb",
      "provenance": [],
      "toc_visible": true,
      "include_colab_link": true
    },
    "kernelspec": {
      "display_name": "Python 3",
      "language": "python",
      "name": "python3"
    },
    "language_info": {
      "codemirror_mode": {
        "name": "ipython",
        "version": 3
      },
      "file_extension": ".py",
      "mimetype": "text/x-python",
      "name": "python",
      "nbconvert_exporter": "python",
      "pygments_lexer": "ipython3",
      "version": "3.8.5"
    }
  },
  "cells": [
    {
      "cell_type": "markdown",
      "metadata": {
        "id": "view-in-github",
        "colab_type": "text"
      },
      "source": [
        "<a href=\"https://colab.research.google.com/github/ezulfica/School-Projects/blob/main/Random_forest.ipynb\" target=\"_parent\"><img src=\"https://colab.research.google.com/assets/colab-badge.svg\" alt=\"Open In Colab\"/></a>"
      ]
    },
    {
      "cell_type": "code",
      "metadata": {
        "id": "qHwzR6zW3Yfn"
      },
      "source": [
        "import pandas as pd\n",
        "import numpy as np \n",
        "import seaborn as sns\n",
        "%matplotlib inline \n",
        "import matplotlib.pyplot as plt\n",
        "from IPython.display import Image, display\n",
        "pd.set_option('display.float_format', lambda x: '%.02f' % x)"
      ],
      "execution_count": null,
      "outputs": []
    },
    {
      "cell_type": "code",
      "metadata": {
        "id": "33x2c4Bj3Yfv"
      },
      "source": [
        "from sklearn.preprocessing import OneHotEncoder, Binarizer, OrdinalEncoder\n",
        "from sklearn.pipeline import make_pipeline\n",
        "from sklearn.compose import make_column_transformer\n",
        "from sklearn.model_selection import GridSearchCV"
      ],
      "execution_count": null,
      "outputs": []
    },
    {
      "cell_type": "code",
      "metadata": {
        "id": "WsVB20GJ3Yfu"
      },
      "source": [
        "from sklearn.metrics import mean_squared_error, confusion_matrix, classification_report\n",
        "from sklearn.ensemble import GradientBoostingClassifier, AdaBoostClassifier, RandomForestClassifier\n",
        "from sklearn.neighbors import KNeighborsClassifier\n",
        "from sklearn.linear_model import LogisticRegression, SGDClassifier\n",
        "from sklearn.svm import SVC"
      ],
      "execution_count": null,
      "outputs": []
    },
    {
      "cell_type": "code",
      "metadata": {
        "id": "Lx4vArWLMyVt"
      },
      "source": [
        "from sklearn.model_selection import train_test_split\n",
        "from sklearn.metrics import make_scorer, confusion_matrix, classification_report, plot_confusion_matrix, balanced_accuracy_score\n",
        "from sklearn.preprocessing import LabelEncoder"
      ],
      "execution_count": null,
      "outputs": []
    },
    {
      "cell_type": "code",
      "metadata": {
        "id": "sWuZQPiOflC0"
      },
      "source": [
        "from xgboost import XGBClassifier\n",
        "from sklearn.naive_bayes import CategoricalNB\n",
        "from sklearn.compose import ColumnTransformer"
      ],
      "execution_count": null,
      "outputs": []
    },
    {
      "cell_type": "code",
      "metadata": {
        "id": "th6_Z8D1MMw3"
      },
      "source": [
        "from sklearn.metrics import balanced_accuracy_score, recall_score\n",
        "from sklearn.preprocessing import StandardScaler"
      ],
      "execution_count": null,
      "outputs": []
    },
    {
      "cell_type": "code",
      "metadata": {
        "colab": {
          "base_uri": "https://localhost:8080/"
        },
        "id": "bVZNQSyB3Yfu",
        "outputId": "cd715987-2001-42a4-f53e-24ef09fedd7c"
      },
      "source": [
        "from google.colab import drive\n",
        "drive.mount('/content/drive/')"
      ],
      "execution_count": null,
      "outputs": [
        {
          "name": "stdout",
          "output_type": "stream",
          "text": [
            "Drive already mounted at /content/drive/; to attempt to forcibly remount, call drive.mount(\"/content/drive/\", force_remount=True).\n"
          ]
        }
      ]
    },
    {
      "cell_type": "code",
      "metadata": {
        "colab": {
          "base_uri": "https://localhost:8080/"
        },
        "id": "k9Wv6VRWni10",
        "outputId": "a4f79bdf-24ca-4f33-9f39-453188dc47bf"
      },
      "source": [
        "import os\n",
        "os.listdir('drive/MyDrive/Projet Orange/Rapport ')"
      ],
      "execution_count": null,
      "outputs": [
        {
          "data": {
            "text/plain": [
              "['Partie 1 -  Users.docx',\n",
              " 'Plan Rapport Projet Orange.gdoc',\n",
              " 'Partie 1 -  Constructeurs.docx',\n",
              " 'Introduction - Préparation des données.docx',\n",
              " 'Partie1_ACP.docx',\n",
              " 'Partie1_LOCINFO.docx',\n",
              " 'Partie_stat_univariée.docx',\n",
              " 'Rapport V1.gdoc',\n",
              " 'II Classification.docx',\n",
              " 'Partie 2 - impact modèle.docx']"
            ]
          },
          "execution_count": 9,
          "metadata": {
            "tags": []
          },
          "output_type": "execute_result"
        }
      ]
    },
    {
      "cell_type": "code",
      "metadata": {
        "id": "o55snJF44eqo"
      },
      "source": [
        "df = pd.read_csv(\"drive/MyDrive/Projet Orange/db_prepross.csv\")\n",
        "cluster = pd.read_csv(\"drive/MyDrive/Projet Orange/5clusters_orange_bytes_VF.csv\")\n",
        "df[\"idx_manufacturer\"] = df[\"idx_manufacturer\"].astype(str).apply(func = lambda x: x.split(\".\")[0])\n",
        "df[\"idx_model\"] = df[\"idx_model\"].astype(str).apply(func = lambda x: x.split(\".\")[0])\n",
        "df = df[df[\"idx_model\"] != 'nan']"
      ],
      "execution_count": null,
      "outputs": []
    },
    {
      "cell_type": "code",
      "metadata": {
        "id": "rMFcDBUrtGq6"
      },
      "source": [
        "def confu_report(y_pred, y_test, transform) : \n",
        "  inv_trans = transform.inverse_transform(y_test)\n",
        "  pred_inv_trans = transform.inverse_transform(y_pred)\n",
        "  print(\"Confusion Matrix\")\n",
        "  print(\" -------------------- \")\n",
        "  print(confusion_matrix(inv_trans, pred_inv_trans))\n",
        "  print(\" -------------------- \")\n",
        "  print(classification_report(inv_trans, pred_inv_trans))\n",
        "  print(\" -------------------- \")"
      ],
      "execution_count": null,
      "outputs": []
    },
    {
      "cell_type": "code",
      "metadata": {
        "id": "Sc-VVdL9JjwO"
      },
      "source": [
        "def report_tr(y_pred, y_test, transform) : \n",
        "  inv_trans = transform.inverse_transform(y_test)\n",
        "  pred_inv_trans = transform.inverse_transform(y_pred)\n",
        "  print(\" -------------------- \")\n",
        "  print(classification_report(inv_trans, pred_inv_trans))\n",
        "  print(\" -------------------- \")"
      ],
      "execution_count": null,
      "outputs": []
    },
    {
      "cell_type": "markdown",
      "metadata": {
        "id": "BXN7_bKQ3Yfv"
      },
      "source": [
        "# Traitement avant modèle"
      ]
    },
    {
      "cell_type": "code",
      "metadata": {
        "id": "N2ff9xDioXEP"
      },
      "source": [
        "df_set = df.groupby(by = [\"num_bis\", \"idx_model\"]).sum().reset_index()\n",
        "df_set.drop(columns = [\"periode_act\", \"nb_locinfo\"], inplace = True)\n",
        "df_set[\"max_nbyte\"] = df_set.drop(columns = [\"num_bis\", \"nbyte\"]).select_dtypes(\"number\").idxmax(axis = 1)\n",
        "df_set = df_set.sort_values(ascending= False, by = \"nbyte\")\n",
        "df_set.nbyte.describe()\n",
        "\n",
        "def nbyte_level(nbyte):\n",
        "  if np.quantile(df_set.nbyte, 0.5) < nbyte < np.quantile(df_set.nbyte, 0.75) :\n",
        "    return (\"+\")\n",
        "  elif nbyte >= np.quantile(df_set.nbyte, 0.75) : \n",
        "    return(\"++\")\n",
        "  else : \n",
        "    return(\"\") \n",
        "\n",
        "df_set[\"max_nbyte2\"] = df_set[\"max_nbyte\"] + df_set.nbyte.apply(nbyte_level)\n",
        "\n",
        "idx_count = df.groupby([\"num_bis\", \"idx_model\"]).agg({\"idx_model\" : \"nunique\"}).rename(columns = {\"idx_model\" : \"count\"}).reset_index().groupby([\"idx_model\"]).agg({\"count\" : 'sum'}).reset_index()\n",
        "idx_count = idx_count.sort_values(by = 'count', ascending = True)\n",
        "df_set[\"idx_model\"] = pd.Categorical(df_set[\"idx_model\"], idx_count[\"idx_model\"], ordered=True)\n",
        "df_set = pd.merge(left = df_set, right = cluster[[\"num_bis\", \"Clust\"]], on = \"num_bis\") \n"
      ],
      "execution_count": null,
      "outputs": []
    },
    {
      "cell_type": "code",
      "metadata": {
        "id": "CIj2dERMzaRN"
      },
      "source": [
        ""
      ],
      "execution_count": null,
      "outputs": []
    },
    {
      "cell_type": "code",
      "metadata": {
        "id": "V5H6SoWEWpbY"
      },
      "source": [
        "df_set.to_csv(\"drive/MyDrive/Projet Orange/df_set_rapport.csv\", sep = \";\", index=False)"
      ],
      "execution_count": null,
      "outputs": []
    },
    {
      "cell_type": "code",
      "metadata": {
        "colab": {
          "base_uri": "https://localhost:8080/"
        },
        "id": "cm5snM2AXE7v",
        "outputId": "17f6ec7f-fe4d-426e-a88f-714d1c363a8e"
      },
      "source": [
        "print(df_set.iloc[5,:][df_set.iloc[5,7]])\n",
        "print(df_set.iloc[5,:])\n",
        "print(sum(df_set.iloc[5,3:7]))"
      ],
      "execution_count": null,
      "outputs": [
        {
          "name": "stdout",
          "output_type": "stream",
          "text": [
            "430311973\n",
            "num_bis                         5662\n",
            "idx_model                       3219\n",
            "nbyte                      573339357\n",
            "nbyte_Web                  140544900\n",
            "nbyte_Download               1697217\n",
            "nbyte_streaming            430311973\n",
            "Autres                        508791\n",
            "max_nbyte            nbyte_streaming\n",
            "max_nbyte2         nbyte_streaming++\n",
            "Clust                              4\n",
            "Name: 5, dtype: object\n",
            "573062881\n"
          ]
        }
      ]
    },
    {
      "cell_type": "code",
      "metadata": {
        "colab": {
          "base_uri": "https://localhost:8080/"
        },
        "id": "55M-eav5WPQR",
        "outputId": "49e591d6-dc27-4f17-e3c4-71d3db9006cb"
      },
      "source": [
        "list_line = []\n",
        "for i in range(len(df_set)) : \n",
        "  col = df_set.iloc[i,7]\n",
        "  if (df_set.iloc[i,:][col] / sum(df_set.iloc[i,3:7]) < 0.6 and df_set.iloc[i,:][col] > 0) :\n",
        "    list_line.append(df_set.iloc[i,:][\"num_bis\"])\n",
        "\n",
        "print(len(list_line))"
      ],
      "execution_count": null,
      "outputs": [
        {
          "name": "stderr",
          "output_type": "stream",
          "text": [
            "/usr/local/lib/python3.7/dist-packages/ipykernel_launcher.py:4: RuntimeWarning: invalid value encountered in long_scalars\n",
            "  after removing the cwd from sys.path.\n"
          ]
        },
        {
          "name": "stdout",
          "output_type": "stream",
          "text": [
            "834\n"
          ]
        }
      ]
    },
    {
      "cell_type": "code",
      "metadata": {
        "id": "nRC_cSl0J81x"
      },
      "source": [
        "nbyte_bis = []\n",
        "for i in range(len(df_set)) :\n",
        "  col = df_set.iloc[i, 7]\n",
        "  nbyte_b = df_set.iloc[i,3:7].drop(col)[df_set.iloc[i,3:7].drop(col)== df_set.iloc[i,3:7].drop(col).max()].index[0]\n",
        "  nbyte_bis.append(nbyte_b)"
      ],
      "execution_count": null,
      "outputs": []
    },
    {
      "cell_type": "code",
      "metadata": {
        "id": "XGuiyH5RMdD6"
      },
      "source": [
        "nbyte_bis"
      ],
      "execution_count": null,
      "outputs": []
    },
    {
      "cell_type": "code",
      "metadata": {
        "id": "PBmoYMngn2kW"
      },
      "source": [
        "df_set[\"nbyte_bis\"] = nbyte_bis"
      ],
      "execution_count": null,
      "outputs": []
    },
    {
      "cell_type": "code",
      "metadata": {
        "id": "J1yG-9xlZYfh"
      },
      "source": [
        ""
      ],
      "execution_count": null,
      "outputs": []
    },
    {
      "cell_type": "code",
      "metadata": {
        "colab": {
          "base_uri": "https://localhost:8080/"
        },
        "id": "MzQ6WQ_sYQR7",
        "outputId": "77d44c4a-9561-4e54-a315-899cd3fb7772"
      },
      "source": [
        "max_nb = []\n",
        "cool1 = []\n",
        "max_nb2 = []\n",
        "cool2 = []\n",
        "i = 0\n",
        "for nub in list_line[1:] : \n",
        "  if i % 10 == 0 :\n",
        "    print(i)\n",
        "    i += 1\n",
        "  line = df_set[df_set[\"num_bis\"] == nub]\n",
        "  col1 = line[\"max_nbyte\"].values[0]\n",
        "  col2 = line[\"nbyte_bis\"].values[0]\n",
        "  max1 = line[col1].values[0]\n",
        "  max2 = line[col2].values[0]\n",
        "  max_nb.append(col1)\n",
        "  cool1.append(max1)\n",
        "  max_nb2.append(col2)\n",
        "  cool2.append(max2)\n",
        "\n",
        "ne_col = {\n",
        "    \"type1\" : max_nb,\n",
        "    \"volume_t1\" : cool1,\n",
        "    \"type2\" : max_nb2,\n",
        "    \"volume_t2\" : cool2\n",
        "}\n",
        "\n",
        "lines_def = pd.DataFrame(ne_col)"
      ],
      "execution_count": null,
      "outputs": [
        {
          "name": "stdout",
          "output_type": "stream",
          "text": [
            "0\n"
          ]
        }
      ]
    },
    {
      "cell_type": "code",
      "metadata": {
        "id": "PhMUbxKVOelo"
      },
      "source": [
        "lines_def[\"total\"] = lines_def[[\"volume_t1\", \"volume_t2\"]].sum(axis = 1) \n",
        "lines_def['volume_t1'] = round(100*lines_def['volume_t1'] / lines_def[\"total\"],2)\n",
        "lines_def['volume_t2'] = round(100*lines_def['volume_t2'] / lines_def[\"total\"],2)"
      ],
      "execution_count": null,
      "outputs": []
    },
    {
      "cell_type": "markdown",
      "metadata": {
        "id": "G5bIpE_IMY8F"
      },
      "source": [
        "## Split"
      ]
    },
    {
      "cell_type": "code",
      "metadata": {
        "colab": {
          "background_save": true,
          "base_uri": "https://localhost:8080/"
        },
        "id": "9PSiJUGDekAf",
        "outputId": "5d8a8c3f-025d-4795-d5b5-74b8d54f0c28"
      },
      "source": [
        "pd.DataFram(lines_def[[\"type1\", \"type2\"]])"
      ],
      "execution_count": null,
      "outputs": [
        {
          "ename": "AttributeError",
          "evalue": "ignored",
          "output_type": "error",
          "traceback": [
            "\u001b[0;31m---------------------------------------------------------------------------\u001b[0m",
            "\u001b[0;31mAttributeError\u001b[0m                            Traceback (most recent call last)",
            "\u001b[0;32m<ipython-input-39-803f031bfef7>\u001b[0m in \u001b[0;36m<module>\u001b[0;34m()\u001b[0m\n\u001b[0;32m----> 1\u001b[0;31m \u001b[0mpd\u001b[0m\u001b[0;34m.\u001b[0m\u001b[0mDataFram\u001b[0m\u001b[0;34m(\u001b[0m\u001b[0mlines_def\u001b[0m\u001b[0;34m[\u001b[0m\u001b[0;34m[\u001b[0m\u001b[0;34m\"type1\"\u001b[0m\u001b[0;34m,\u001b[0m \u001b[0;34m\"type2\"\u001b[0m\u001b[0;34m]\u001b[0m\u001b[0;34m]\u001b[0m\u001b[0;34m)\u001b[0m\u001b[0;34m\u001b[0m\u001b[0;34m\u001b[0m\u001b[0m\n\u001b[0m",
            "\u001b[0;32m/usr/local/lib/python3.7/dist-packages/pandas/__init__.py\u001b[0m in \u001b[0;36m__getattr__\u001b[0;34m(name)\u001b[0m\n\u001b[1;32m    256\u001b[0m             \u001b[0;32mreturn\u001b[0m \u001b[0m_SparseArray\u001b[0m\u001b[0;34m\u001b[0m\u001b[0;34m\u001b[0m\u001b[0m\n\u001b[1;32m    257\u001b[0m \u001b[0;34m\u001b[0m\u001b[0m\n\u001b[0;32m--> 258\u001b[0;31m         \u001b[0;32mraise\u001b[0m \u001b[0mAttributeError\u001b[0m\u001b[0;34m(\u001b[0m\u001b[0;34mf\"module 'pandas' has no attribute '{name}'\"\u001b[0m\u001b[0;34m)\u001b[0m\u001b[0;34m\u001b[0m\u001b[0;34m\u001b[0m\u001b[0m\n\u001b[0m\u001b[1;32m    259\u001b[0m \u001b[0;34m\u001b[0m\u001b[0m\n\u001b[1;32m    260\u001b[0m \u001b[0;34m\u001b[0m\u001b[0m\n",
            "\u001b[0;31mAttributeError\u001b[0m: module 'pandas' has no attribute 'DataFram'"
          ]
        }
      ]
    },
    {
      "cell_type": "code",
      "metadata": {
        "colab": {
          "base_uri": "https://localhost:8080/",
          "height": 81
        },
        "id": "Tc2BnP6ffNIp",
        "outputId": "7198ca4c-f1b4-4919-c26d-1588483ff34d"
      },
      "source": [
        "lines_def[(lines_def[\"type1\"] == \"nbyte_streaming\") & (lines_def[\"type2\"] == \"Autres\")]"
      ],
      "execution_count": null,
      "outputs": [
        {
          "data": {
            "text/html": [
              "<div>\n",
              "<style scoped>\n",
              "    .dataframe tbody tr th:only-of-type {\n",
              "        vertical-align: middle;\n",
              "    }\n",
              "\n",
              "    .dataframe tbody tr th {\n",
              "        vertical-align: top;\n",
              "    }\n",
              "\n",
              "    .dataframe thead th {\n",
              "        text-align: right;\n",
              "    }\n",
              "</style>\n",
              "<table border=\"1\" class=\"dataframe\">\n",
              "  <thead>\n",
              "    <tr style=\"text-align: right;\">\n",
              "      <th></th>\n",
              "      <th>type1</th>\n",
              "      <th>volume_t1</th>\n",
              "      <th>type2</th>\n",
              "      <th>volume_t2</th>\n",
              "      <th>total</th>\n",
              "    </tr>\n",
              "  </thead>\n",
              "  <tbody>\n",
              "    <tr>\n",
              "      <th>157</th>\n",
              "      <td>nbyte_streaming</td>\n",
              "      <td>71.76</td>\n",
              "      <td>Autres</td>\n",
              "      <td>28.24</td>\n",
              "      <td>4120738</td>\n",
              "    </tr>\n",
              "  </tbody>\n",
              "</table>\n",
              "</div>"
            ],
            "text/plain": [
              "               type1  volume_t1   type2  volume_t2    total\n",
              "157  nbyte_streaming      71.76  Autres      28.24  4120738"
            ]
          },
          "execution_count": 38,
          "metadata": {
            "tags": []
          },
          "output_type": "execute_result"
        }
      ]
    },
    {
      "cell_type": "code",
      "metadata": {
        "id": "qrqFimmnqu3z"
      },
      "source": [
        "df_train = df_set[[\"idx_model\", \"max_nbyte\", \"max_nbyte2\", \"Clust\"]].sort_values('idx_model', ascending = False)\n",
        "df_train = df_train.reset_index().drop(columns = \"index\")\n",
        "X_transform = LabelEncoder().fit(df_train[\"idx_model\"])\n",
        "X = np.array(X_transform.transform(df_train[\"idx_model\"])).reshape(-1,1)\n",
        "y1_transform = LabelEncoder().fit(df_train[\"max_nbyte\"])\n",
        "y1 = np.array(y1_transform.transform(df_train[\"max_nbyte\"])).reshape(-1,1)\n",
        "y2_transform = LabelEncoder().fit(df_train[\"max_nbyte2\"])\n",
        "y2 = np.array(y2_transform.transform(df_train[\"max_nbyte2\"])).reshape(-1,1)\n",
        "y3 = df_train[\"Clust\"]\n",
        "X_train1, X_test1, y_train1, y_test1 = train_test_split(X, y1, random_state = 35, test_size = 0.2, train_size = 0.8)\n",
        "X_train2, X_test2, y_train2, y_test2 = train_test_split(X, y2, random_state = 52, test_size = 0.2, train_size = 0.8)\n",
        "X_train3, X_test3, y_train3, y_test3 = train_test_split(X, y3, random_state = 48, test_size = 0.2, train_size = 0.8)"
      ],
      "execution_count": null,
      "outputs": []
    },
    {
      "cell_type": "code",
      "metadata": {
        "colab": {
          "base_uri": "https://localhost:8080/"
        },
        "id": "42knxubH64V0",
        "outputId": "d74695b6-3aa9-4c29-f89e-363242831458"
      },
      "source": [
        "np.array(X_transform.transform(df_train[\"idx_model\"]))"
      ],
      "execution_count": null,
      "outputs": [
        {
          "data": {
            "text/plain": [
              "array([236, 236, 236, ...,  68,  70, 149])"
            ]
          },
          "execution_count": 18,
          "metadata": {
            "tags": []
          },
          "output_type": "execute_result"
        }
      ]
    },
    {
      "cell_type": "code",
      "metadata": {
        "id": "qMbSaSpt9IYp"
      },
      "source": [
        "X_enco = pd.DataFrame(X, columns = {\"idx_model_encoded\"})\n",
        "y1_enco = pd.DataFrame(y1, columns = {\"max_nbyte_encoded\"})\n",
        "y2_enco = pd.DataFrame(y2, columns = {\"max_nbyte2_encoded\"})"
      ],
      "execution_count": null,
      "outputs": []
    },
    {
      "cell_type": "code",
      "metadata": {
        "id": "nChq5wy_-GkH"
      },
      "source": [
        "pd.concat([df_train, X_enco, y1_enco, y2_enco], axis = 1).to_csv(\"drive/MyDrive/Projet Orange/set_df2_rapport.csv\", index = False, sep = \";\")"
      ],
      "execution_count": null,
      "outputs": []
    },
    {
      "cell_type": "code",
      "metadata": {
        "colab": {
          "base_uri": "https://localhost:8080/",
          "height": 81
        },
        "id": "OHvx-nbgGUyF",
        "outputId": "c70aae6b-e716-4c9e-957d-45c3fce10c95"
      },
      "source": [
        "df_set[df_set[\"num_bis\"] == 9904]"
      ],
      "execution_count": null,
      "outputs": [
        {
          "data": {
            "text/html": [
              "<div>\n",
              "<style scoped>\n",
              "    .dataframe tbody tr th:only-of-type {\n",
              "        vertical-align: middle;\n",
              "    }\n",
              "\n",
              "    .dataframe tbody tr th {\n",
              "        vertical-align: top;\n",
              "    }\n",
              "\n",
              "    .dataframe thead th {\n",
              "        text-align: right;\n",
              "    }\n",
              "</style>\n",
              "<table border=\"1\" class=\"dataframe\">\n",
              "  <thead>\n",
              "    <tr style=\"text-align: right;\">\n",
              "      <th></th>\n",
              "      <th>num_bis</th>\n",
              "      <th>idx_model</th>\n",
              "      <th>nbyte</th>\n",
              "      <th>nbyte_Web</th>\n",
              "      <th>nbyte_Download</th>\n",
              "      <th>nbyte_streaming</th>\n",
              "      <th>Autres</th>\n",
              "      <th>max_nbyte</th>\n",
              "      <th>max_nbyte2</th>\n",
              "      <th>Clust</th>\n",
              "    </tr>\n",
              "  </thead>\n",
              "  <tbody>\n",
              "    <tr>\n",
              "      <th>1174</th>\n",
              "      <td>9904</td>\n",
              "      <td>3144</td>\n",
              "      <td>8838182</td>\n",
              "      <td>4203951</td>\n",
              "      <td>40241</td>\n",
              "      <td>4573044</td>\n",
              "      <td>104</td>\n",
              "      <td>nbyte_streaming</td>\n",
              "      <td>nbyte_streaming++</td>\n",
              "      <td>2</td>\n",
              "    </tr>\n",
              "  </tbody>\n",
              "</table>\n",
              "</div>"
            ],
            "text/plain": [
              "      num_bis idx_model    nbyte  ...        max_nbyte         max_nbyte2  Clust\n",
              "1174     9904      3144  8838182  ...  nbyte_streaming  nbyte_streaming++      2\n",
              "\n",
              "[1 rows x 10 columns]"
            ]
          },
          "execution_count": 25,
          "metadata": {
            "tags": []
          },
          "output_type": "execute_result"
        }
      ]
    },
    {
      "cell_type": "markdown",
      "metadata": {
        "id": "Qi9ndzOZMUiU"
      },
      "source": [
        "#Entrainement des modèles"
      ]
    },
    {
      "cell_type": "code",
      "metadata": {
        "id": "ReQQ_CDXfWU5"
      },
      "source": [
        "from sklearn.base import BaseEstimator\n",
        "class ClfSwitcher(BaseEstimator):\n",
        "\n",
        "  def __init__(self, estimator = SGDClassifier()):\n",
        "      \"\"\"\n",
        "      A Custom BaseEstimator that can switch between classifiers.\n",
        "      :param estimator: sklearn object - The classifier\n",
        "      \"\"\" \n",
        "      self.estimator = estimator\n",
        "\n",
        "\n",
        "  def fit(self, X, y=None, **kwargs):\n",
        "      self.estimator.fit(X, y)\n",
        "      return self\n",
        "\n",
        "  def predict(self, X, y=None):\n",
        "      return self.estimator.predict(X)\n",
        "\n",
        "\n",
        "  def predict_proba(self, X):\n",
        "      return self.estimator.predict_proba(X)\n",
        "\n",
        "\n",
        "  def score(self, X, y):\n",
        "      return self.estimator.score(X, y)"
      ],
      "execution_count": null,
      "outputs": []
    },
    {
      "cell_type": "code",
      "metadata": {
        "id": "BewHak4XfcmL"
      },
      "source": [
        "parameters = [\n",
        "              {\"clfswitcher\" : [RandomForestClassifier(n_jobs = -1)], \n",
        "               \"clfswitcher__n_estimators\" : [100, 500,1000], \n",
        "               \"clfswitcher__max_depth\" : [None, 5, 10, 20],\n",
        "               \"clfswitcher__bootstrap\" : [False, True]               \n",
        "              },\n",
        "\n",
        "              {\"clfswitcher\" : [XGBClassifier(objective= \"multi:softprob\", n_jobs=-1, learning_rate=0.01, silent=True, verbosity=0)],\n",
        "               \"clfswitcher__n_estimators\" : [100, 500, 1000],\n",
        "               \"clfswitcher__max_depth\" : [None, 5, 10]\n",
        "              }\n",
        "              \n",
        "]"
      ],
      "execution_count": null,
      "outputs": []
    },
    {
      "cell_type": "code",
      "metadata": {
        "id": "aJAoAKhJiLvt"
      },
      "source": [
        "clfswitcher = make_pipeline(StandardScaler(), ClfSwitcher())\n",
        "Model1 = GridSearchCV(estimator = clfswitcher , param_grid = parameters, n_jobs = -1, verbose= False, scoring = balanced_score, cv = 3)\n",
        "Model1.fit(X_train1, y_train1)\n",
        "print(\"------- Best parameters --------\")\n",
        "print(Model1.best_params_)\n"
      ],
      "execution_count": null,
      "outputs": []
    },
    {
      "cell_type": "code",
      "metadata": {
        "id": "Aix4tEZIn01y"
      },
      "source": [
        "model1_best = RandomForestClassifier(bootstrap= False, max_depth= None, n_estimators= 100)\n",
        "model1_best.fit(X_train1.reshape(-1,1), y_train1.reshape(-1,1))\n",
        "model1_pred = model1_best.predict(X_test1.reshape(-1,1))"
      ],
      "execution_count": null,
      "outputs": []
    },
    {
      "cell_type": "code",
      "metadata": {
        "id": "NameEeTwqqX8"
      },
      "source": [
        "Model2 = GridSearchCV(clfswitcher , parameters, n_jobs = -1, verbose= True, scoring = balanced_score, cv = 3)\n",
        "Model2.fit(X_train2.reshape(-1,1), y_train2.reshape(-1,1))\n",
        "print(\"-------------Best parameters ---------------\")\n",
        "print(Model2.best_params_)"
      ],
      "execution_count": null,
      "outputs": []
    },
    {
      "cell_type": "code",
      "metadata": {
        "id": "XEmXqhx1om6H"
      },
      "source": [
        "model2_best = XGBClassifier(n_estimators=500, max_depth= 5, objective='multi:softprob', n_jobs=-1, learning_rate=0.01, silent=True, verbosity=2)\n",
        "model2_best.fit(X_train2.reshape(-1,1), y_train2.reshape(-1,1))\n",
        "model2_pred = model1_best.predict(X_test2.reshape(-1,1))\n",
        "confu_report(model2_pred, y_test2, y2_transform)"
      ],
      "execution_count": null,
      "outputs": []
    },
    {
      "cell_type": "code",
      "metadata": {
        "colab": {
          "base_uri": "https://localhost:8080/"
        },
        "id": "SpJF1jZHUMWs",
        "outputId": "3ada4efd-b014-4df3-889d-327a4160f825"
      },
      "source": [
        "RandomForestClassifier().get_params()"
      ],
      "execution_count": null,
      "outputs": [
        {
          "data": {
            "text/plain": [
              "{'bootstrap': True,\n",
              " 'ccp_alpha': 0.0,\n",
              " 'class_weight': None,\n",
              " 'criterion': 'gini',\n",
              " 'max_depth': None,\n",
              " 'max_features': 'auto',\n",
              " 'max_leaf_nodes': None,\n",
              " 'max_samples': None,\n",
              " 'min_impurity_decrease': 0.0,\n",
              " 'min_impurity_split': None,\n",
              " 'min_samples_leaf': 1,\n",
              " 'min_samples_split': 2,\n",
              " 'min_weight_fraction_leaf': 0.0,\n",
              " 'n_estimators': 100,\n",
              " 'n_jobs': None,\n",
              " 'oob_score': False,\n",
              " 'random_state': None,\n",
              " 'verbose': 0,\n",
              " 'warm_start': False}"
            ]
          },
          "execution_count": 490,
          "metadata": {
            "tags": []
          },
          "output_type": "execute_result"
        }
      ]
    },
    {
      "cell_type": "markdown",
      "metadata": {
        "id": "M4ZjZNuicdFy"
      },
      "source": [
        "#FINAL MODEL"
      ]
    },
    {
      "cell_type": "code",
      "metadata": {
        "id": "rxd4H-L8RL5y"
      },
      "source": [
        "balanced_score = make_scorer(balanced_accuracy_score)"
      ],
      "execution_count": null,
      "outputs": []
    },
    {
      "cell_type": "code",
      "metadata": {
        "id": "1kNsoV0KKIY2"
      },
      "source": [
        "import warnings\n",
        "warnings.filterwarnings('ignore')"
      ],
      "execution_count": null,
      "outputs": []
    },
    {
      "cell_type": "code",
      "metadata": {
        "id": "QV4IhdVAQD77"
      },
      "source": [
        "RandomForestClassifier().get_params()"
      ],
      "execution_count": null,
      "outputs": []
    },
    {
      "cell_type": "code",
      "metadata": {
        "id": "xCkgc2R7aFbb"
      },
      "source": [
        "rf_best1 = RandomForestClassifier(criterion='entropy', n_estimators= 500, oob_score=False)\n",
        "rf_best1.fit(X_train1, y_train1)\n",
        "rf_best1_pred = rf_best1.predict(X_test1)\n",
        "rf_best1_train = rf_best1.predict(X_train1)\n"
      ],
      "execution_count": null,
      "outputs": []
    },
    {
      "cell_type": "code",
      "metadata": {
        "colab": {
          "base_uri": "https://localhost:8080/"
        },
        "id": "PwnnDQvGJrjT",
        "outputId": "d2104e08-d4c5-4d80-a088-447714bff0bf"
      },
      "source": [
        "print(\"------- Train Set ------\")\n",
        "report_tr(rf_best1_train, y_train1, y1_transform)\n",
        "print(\"\\n\")\n",
        "print(\"------- Test Set ------\")\n",
        "report_tr(rf_best1_pred, y_test1, y1_transform)"
      ],
      "execution_count": null,
      "outputs": [
        {
          "name": "stdout",
          "output_type": "stream",
          "text": [
            "------- Train Set ------\n",
            " -------------------- \n",
            "                 precision    recall  f1-score   support\n",
            "\n",
            "         Autres       0.69      0.10      0.18      1502\n",
            " nbyte_Download       0.80      0.02      0.04       218\n",
            "      nbyte_Web       0.76      0.99      0.86      5916\n",
            "nbyte_streaming       1.00      0.01      0.03       300\n",
            "\n",
            "       accuracy                           0.76      7936\n",
            "      macro avg       0.81      0.28      0.28      7936\n",
            "   weighted avg       0.76      0.76      0.68      7936\n",
            "\n",
            " -------------------- \n",
            "\n",
            "\n",
            "------- Test Set ------\n",
            " -------------------- \n",
            "                 precision    recall  f1-score   support\n",
            "\n",
            "         Autres       0.60      0.08      0.14       389\n",
            " nbyte_Download       0.00      0.00      0.00        61\n",
            "      nbyte_Web       0.75      0.99      0.85      1471\n",
            "nbyte_streaming       0.00      0.00      0.00        63\n",
            "\n",
            "       accuracy                           0.75      1984\n",
            "      macro avg       0.34      0.27      0.25      1984\n",
            "   weighted avg       0.67      0.75      0.66      1984\n",
            "\n",
            " -------------------- \n"
          ]
        }
      ]
    },
    {
      "cell_type": "code",
      "metadata": {
        "id": "XayKTazLKx9D"
      },
      "source": [
        "model_set = pd.concat([pd.DataFrame(X_transform.inverse_transform(X_test1), columns = {\"idx_model\"}),\n",
        "           pd.DataFrame(y1_transform.inverse_transform(rf_best1_pred), columns = {\"pred\"}),\n",
        "           pd.DataFrame(y1_transform.inverse_transform(y_test1),columns = {\"actuel\"})\n",
        "           ], axis = 1)"
      ],
      "execution_count": null,
      "outputs": []
    },
    {
      "cell_type": "code",
      "metadata": {
        "colab": {
          "base_uri": "https://localhost:8080/"
        },
        "id": "9kdTbhghMGuY",
        "outputId": "d092dd33-36b8-4508-e77b-d8e1bc401198"
      },
      "source": [
        "model_set[model_set[\"pred\"] == model_set[\"actuel\"]].drop_duplicates()[\"pred\"].value_counts()"
      ],
      "execution_count": null,
      "outputs": [
        {
          "data": {
            "text/plain": [
              "nbyte_Web    156\n",
              "Autres        11\n",
              "Name: pred, dtype: int64"
            ]
          },
          "execution_count": 188,
          "metadata": {
            "tags": []
          },
          "output_type": "execute_result"
        }
      ]
    },
    {
      "cell_type": "code",
      "metadata": {
        "id": "XeZRvl3THhI2"
      },
      "source": [
        "import matplotlib.pyplot as plt"
      ],
      "execution_count": null,
      "outputs": []
    },
    {
      "cell_type": "code",
      "metadata": {
        "colab": {
          "base_uri": "https://localhost:8080/",
          "height": 580
        },
        "id": "lc6I8AU1EKNz",
        "outputId": "6040441c-194b-4230-b6a3-27f92092beae"
      },
      "source": [
        "fig, ax = plt.subplots(ncols= 2, figsize = (15,10))\n",
        "plot_confusion_matrix(rf_best1, X_train1, y_train1, values_format=\"d\", ax = ax[0], cmap = \"OrRd\")\n",
        "plot_confusion_matrix(rf_best1, X_test1, y_test1, ax = ax[1], cmap = 'OrRd', values_format=\"d\")\n",
        "ax[0].title.set_text(\"Confusion Matrix on train set\")\n",
        "ax[1].title.set_text(\"Confusion Matrix on test set\")\n",
        "fig.savefig(\"drive/MyDrive/Projet Orange/confu_mat1.png\")"
      ],
      "execution_count": null,
      "outputs": [
        {
          "data": {
            "image/png": "[encoded data removed]",
            "text/plain": [
              "<Figure size 1080x720 with 4 Axes>"
            ]
          },
          "metadata": {
            "tags": []
          },
          "output_type": "display_data"
        }
      ]
    },
    {
      "cell_type": "code",
      "metadata": {
        "id": "lOmCkM4FJRKY"
      },
      "source": [
        "print(\"------ Train set --------\")\n",
        "print(confu_report())"
      ],
      "execution_count": null,
      "outputs": []
    },
    {
      "cell_type": "code",
      "metadata": {
        "colab": {
          "base_uri": "https://localhost:8080/"
        },
        "id": "fn9IqouCWW9A",
        "outputId": "297cdb30-d85f-4581-d98b-a87dd11396eb"
      },
      "source": [
        "rf_param = dict(\n",
        "    bootstrap = [False, True], \n",
        "    criterion = [\"gini\", \"entropy\"], \n",
        "    max_depth = [None, 5, 20], \n",
        "    min_samples_leaf = [1, 10], \n",
        "    n_estimators = [100, 250, 500], \n",
        "    oob_score = [False, True], \n",
        "    warm_start = [False, True], \n",
        "    )\n",
        "rf = GridSearchCV(RandomForestClassifier(n_jobs = -1), rf_param, scoring=balanced_score, n_jobs = -1, cv = 3, verbose = False)\n",
        "rf.fit(X_train2, y_train2)\n",
        "print('----------------------------------------------------------------')\n",
        "print(rf.best_params_)"
      ],
      "execution_count": null,
      "outputs": [
        {
          "name": "stderr",
          "output_type": "stream",
          "text": [
            "/usr/local/lib/python3.7/dist-packages/sklearn/model_selection/_split.py:667: UserWarning: The least populated class in y has only 1 members, which is less than n_splits=3.\n",
            "  % (min_groups, self.n_splits)), UserWarning)\n",
            "/usr/local/lib/python3.7/dist-packages/sklearn/model_selection/_search.py:739: DataConversionWarning: A column-vector y was passed when a 1d array was expected. Please change the shape of y to (n_samples,), for example using ravel().\n",
            "  self.best_estimator_.fit(X, y, **fit_params)\n"
          ]
        },
        {
          "name": "stdout",
          "output_type": "stream",
          "text": [
            "----------------------------------------------------------------\n",
            "{'bootstrap': True, 'criterion': 'entropy', 'max_depth': 20, 'min_samples_leaf': 1, 'n_estimators': 100, 'oob_score': False, 'warm_start': True}\n"
          ]
        }
      ]
    },
    {
      "cell_type": "code",
      "metadata": {
        "id": "w39iezCkZlgi"
      },
      "source": [
        "rf_best2 = RandomForestClassifier(criterion='entropy', n_estimators= 100, oob_score=False, max_depth= 20, warm_start= True)\n",
        "rf_best2.fit(X_train2, y_train2)\n",
        "rf_best2_pred = rf_best2.predict(X_test2)\n",
        "rf_best2_pred_train = rf_best2.predict(X_train2)"
      ],
      "execution_count": null,
      "outputs": []
    },
    {
      "cell_type": "code",
      "metadata": {
        "colab": {
          "base_uri": "https://localhost:8080/"
        },
        "id": "aL0pc6jLVSKj",
        "outputId": "679b5e90-09a0-4cde-8309-ac642835c078"
      },
      "source": [
        "print(\"Rapport jeu de test\")\n",
        "confu_report(rf_best2_pred,y_test2,  y2_transform)"
      ],
      "execution_count": null,
      "outputs": [
        {
          "name": "stdout",
          "output_type": "stream",
          "text": [
            "Rapport jeu de test\n",
            "Confusion Matrix\n",
            " -------------------- \n",
            "[[ 39   0   0   1   0   0 164  16  48   0   0]\n",
            " [  2   0   0   0   0   0  67   8  27   0   0]\n",
            " [  0   0   0   0   0   0  16   7  12   0   0]\n",
            " [  2   0   0   0   0   0  14   2   2   0   0]\n",
            " [  0   0   0   0   0   0   6   0   0   0   0]\n",
            " [  0   0   0   0   0   0  12   3   5   0   0]\n",
            " [ 22   2   0   0   0   0 511  69 123   0   0]\n",
            " [  7   0   0   0   0   1 235  49  94   0   3]\n",
            " [  3   1   0   0   0   0 179  54 116   0   1]\n",
            " [  0   0   0   0   0   0   4   0   2   0   0]\n",
            " [  0   0   0   0   0   0  27   5  21   0   2]]\n",
            " -------------------- \n",
            "                   precision    recall  f1-score   support\n",
            "\n",
            "           Autres       0.52      0.15      0.23       268\n",
            "          Autres+       0.00      0.00      0.00       104\n",
            "         Autres++       0.00      0.00      0.00        35\n",
            "   nbyte_Download       0.00      0.00      0.00        20\n",
            "  nbyte_Download+       0.00      0.00      0.00         6\n",
            " nbyte_Download++       0.00      0.00      0.00        20\n",
            "        nbyte_Web       0.41      0.70      0.52       727\n",
            "       nbyte_Web+       0.23      0.13      0.16       389\n",
            "      nbyte_Web++       0.26      0.33      0.29       354\n",
            " nbyte_streaming+       0.00      0.00      0.00         6\n",
            "nbyte_streaming++       0.33      0.04      0.07        55\n",
            "\n",
            "         accuracy                           0.36      1984\n",
            "        macro avg       0.16      0.12      0.12      1984\n",
            "     weighted avg       0.32      0.36      0.31      1984\n",
            "\n",
            " -------------------- \n"
          ]
        },
        {
          "name": "stderr",
          "output_type": "stream",
          "text": [
            "/usr/local/lib/python3.7/dist-packages/sklearn/preprocessing/_label.py:289: DataConversionWarning: A column-vector y was passed when a 1d array was expected. Please change the shape of y to (n_samples, ), for example using ravel().\n",
            "  y = column_or_1d(y, warn=True)\n",
            "/usr/local/lib/python3.7/dist-packages/sklearn/metrics/_classification.py:1272: UndefinedMetricWarning: Precision and F-score are ill-defined and being set to 0.0 in labels with no predicted samples. Use `zero_division` parameter to control this behavior.\n",
            "  _warn_prf(average, modifier, msg_start, len(result))\n"
          ]
        }
      ]
    },
    {
      "cell_type": "code",
      "metadata": {
        "colab": {
          "base_uri": "https://localhost:8080/"
        },
        "id": "9J1LuN7Ua0_v",
        "outputId": "39ba2757-0455-42a5-9697-eac871c2d96f"
      },
      "source": [
        "print(\"Rapport sur jeu de train\")\n",
        "confu_report(rf_best2_pred_train,y_train2,  y2_transform)"
      ],
      "execution_count": null,
      "outputs": [
        {
          "name": "stdout",
          "output_type": "stream",
          "text": [
            "Rapport sur jeu de train\n",
            "Confusion Matrix\n",
            " -------------------- \n",
            "[[ 169    1    0    2    0    0  640   37  145    0    0    1]\n",
            " [   7    4    0    0    0    0  226   24   93    0    0    1]\n",
            " [   4    0    1    0    0    0   58   24   47    0    0    0]\n",
            " [   6    0    0    6    0    0   57    2    7    0    0    0]\n",
            " [   1    0    0    0    0    0   15    3    2    0    0    0]\n",
            " [   3    0    0    0    0    3   79   11   38    0    0    0]\n",
            " [  70    0    0    0    0    3 2208  185  404    0    0    1]\n",
            " [  22    1    0    1    0    1  908  314  342    0    0    1]\n",
            " [  11    0    0    1    0    0  705  177  559    0    0    3]\n",
            " [   0    0    0    0    0    0    0    0    1    0    0    0]\n",
            " [   0    0    0    0    0    0    5    0    4    0    0    0]\n",
            " [   2    0    0    0    0    0  142   33  108    0    0    7]]\n",
            " -------------------- \n"
          ]
        },
        {
          "name": "stderr",
          "output_type": "stream",
          "text": [
            "/usr/local/lib/python3.7/dist-packages/sklearn/preprocessing/_label.py:289: DataConversionWarning: A column-vector y was passed when a 1d array was expected. Please change the shape of y to (n_samples, ), for example using ravel().\n",
            "  y = column_or_1d(y, warn=True)\n",
            "/usr/local/lib/python3.7/dist-packages/sklearn/metrics/_classification.py:1272: UndefinedMetricWarning: Precision and F-score are ill-defined and being set to 0.0 in labels with no predicted samples. Use `zero_division` parameter to control this behavior.\n",
            "  _warn_prf(average, modifier, msg_start, len(result))\n"
          ]
        },
        {
          "name": "stdout",
          "output_type": "stream",
          "text": [
            "                   precision    recall  f1-score   support\n",
            "\n",
            "           Autres       0.57      0.17      0.26       995\n",
            "          Autres+       0.67      0.01      0.02       355\n",
            "         Autres++       1.00      0.01      0.01       134\n",
            "   nbyte_Download       0.60      0.08      0.14        78\n",
            "  nbyte_Download+       0.00      0.00      0.00        21\n",
            " nbyte_Download++       0.43      0.02      0.04       134\n",
            "        nbyte_Web       0.44      0.77      0.56      2871\n",
            "       nbyte_Web+       0.39      0.20      0.26      1590\n",
            "      nbyte_Web++       0.32      0.38      0.35      1456\n",
            "  nbyte_streaming       0.00      0.00      0.00         1\n",
            " nbyte_streaming+       0.00      0.00      0.00         9\n",
            "nbyte_streaming++       0.50      0.02      0.05       292\n",
            "\n",
            "         accuracy                           0.41      7936\n",
            "        macro avg       0.41      0.14      0.14      7936\n",
            "     weighted avg       0.44      0.41      0.36      7936\n",
            "\n",
            " -------------------- \n"
          ]
        }
      ]
    },
    {
      "cell_type": "code",
      "metadata": {
        "id": "n817APpgTlCZ"
      },
      "source": [
        ""
      ],
      "execution_count": null,
      "outputs": []
    },
    {
      "cell_type": "code",
      "metadata": {
        "id": "CzjbwdJ-TlW0"
      },
      "source": [
        "model_set = pd.concat([pd.DataFrame(X_transform.inverse_transform(X_test2), columns = {\"idx_model\"}),\n",
        "           pd.DataFrame(y2_transform.inverse_transform(rf_best2_pred), columns = {\"pred\"}),\n",
        "           pd.DataFrame(y2_transform.inverse_transform(y_test2),columns = {\"actuel\"})\n",
        "           ], axis = 1)"
      ],
      "execution_count": null,
      "outputs": []
    },
    {
      "cell_type": "code",
      "metadata": {
        "colab": {
          "base_uri": "https://localhost:8080/"
        },
        "id": "ODrUEOtfTlW1",
        "outputId": "a4b6c40a-4c8c-4b9f-9923-f16a28aa7f95"
      },
      "source": [
        "model_set[model_set[\"pred\"] == model_set[\"actuel\"]].drop_duplicates()[model_set[\"pred\"] == \"nbyte_streaming++\"].value_counts()"
      ],
      "execution_count": null,
      "outputs": [
        {
          "data": {
            "text/plain": [
              "idx_model  pred               actuel           \n",
              "1722       nbyte_streaming++  nbyte_streaming++    1\n",
              "dtype: int64"
            ]
          },
          "execution_count": 197,
          "metadata": {
            "tags": []
          },
          "output_type": "execute_result"
        }
      ]
    },
    {
      "cell_type": "code",
      "metadata": {
        "colab": {
          "base_uri": "https://localhost:8080/"
        },
        "id": "JhL-4eA3nCVE",
        "outputId": "3bc8c16c-85cf-4303-e1eb-ef0f049c5216"
      },
      "source": [
        "rf_param = dict(\n",
        "    bootstrap = [False, True], \n",
        "    criterion = [\"gini\", \"entropy\"], \n",
        "    max_depth = [None, 5, 20], \n",
        "    min_samples_leaf = [1, 10], \n",
        "    n_estimators = [100, 250, 500], \n",
        "    oob_score = [False, True], \n",
        "    warm_start = [False, True], \n",
        "    )\n",
        "rf = GridSearchCV(RandomForestClassifier(n_jobs = -1), rf_param, scoring=balanced_score, n_jobs = -1, cv = 3, verbose = False)\n",
        "rf.fit(X_train3, y_train3)\n",
        "print('----------------------------------------------------------------')\n",
        "print(rf.best_params_)"
      ],
      "execution_count": null,
      "outputs": [
        {
          "name": "stderr",
          "output_type": "stream",
          "text": [
            "/usr/local/lib/python3.7/dist-packages/sklearn/model_selection/_split.py:667: UserWarning: The least populated class in y has only 1 members, which is less than n_splits=3.\n",
            "  % (min_groups, self.n_splits)), UserWarning)\n"
          ]
        },
        {
          "name": "stdout",
          "output_type": "stream",
          "text": [
            "----------------------------------------------------------------\n",
            "{'bootstrap': True, 'criterion': 'gini', 'max_depth': None, 'min_samples_leaf': 1, 'n_estimators': 250, 'oob_score': True, 'warm_start': True}\n"
          ]
        }
      ]
    },
    {
      "cell_type": "code",
      "metadata": {
        "id": "9F90ZSwpU7j4"
      },
      "source": [
        "from sklearn.preprocessing import StandardScaler"
      ],
      "execution_count": null,
      "outputs": []
    },
    {
      "cell_type": "code",
      "metadata": {
        "colab": {
          "base_uri": "https://localhost:8080/"
        },
        "id": "RlPTKypRU3cY",
        "outputId": "afc61c56-d4bc-48ff-9391-6f27a8b7c0ea"
      },
      "source": [
        "clfswitcher = make_pipeline(StandardScaler(), ClfSwitcher())\n",
        "Model1 = GridSearchCV(estimator = clfswitcher , param_grid = parameters, n_jobs = -1, verbose= False, scoring = balanced_score, cv = 3)\n",
        "Model1.fit(X_train3, y_train3)\n",
        "print(\"------- Best parameters --------\")\n",
        "print(Model1.best_params_)"
      ],
      "execution_count": null,
      "outputs": [
        {
          "name": "stdout",
          "output_type": "stream",
          "text": [
            "------- Best parameters --------\n",
            "{'clfswitcher': RandomForestClassifier(bootstrap=True, ccp_alpha=0.0, class_weight=None,\n",
            "                       criterion='gini', max_depth=20, max_features='auto',\n",
            "                       max_leaf_nodes=None, max_samples=None,\n",
            "                       min_impurity_decrease=0.0, min_impurity_split=None,\n",
            "                       min_samples_leaf=1, min_samples_split=2,\n",
            "                       min_weight_fraction_leaf=0.0, n_estimators=500,\n",
            "                       n_jobs=-1, oob_score=False, random_state=None, verbose=0,\n",
            "                       warm_start=False), 'clfswitcher__bootstrap': True, 'clfswitcher__max_depth': 20, 'clfswitcher__n_estimators': 500}\n"
          ]
        }
      ]
    },
    {
      "cell_type": "code",
      "metadata": {
        "id": "d9NIGjdfn6iX"
      },
      "source": [
        "rf_classif = RandomForestClassifier(max_depth = 20, n_estimators=500)\n",
        "rf_classif.fit(X_train3, y_train3)\n",
        "rf_classif_pred = rf_classif.predict(X_test3)\n",
        "rf_classif_train = rf_classif.predict(X_train3)"
      ],
      "execution_count": null,
      "outputs": []
    },
    {
      "cell_type": "code",
      "metadata": {
        "colab": {
          "base_uri": "https://localhost:8080/"
        },
        "id": "CEF37FS50N38",
        "outputId": "a68fd118-ba9d-428f-bdb7-9e30fd3638bc"
      },
      "source": [
        "print(\"--------------- Train Set ----------------\")\n",
        "print(classification_report(y_train3, rf_classif_train))\n",
        "print(\"--------------- Test Set ----------------\")\n",
        "print(classification_report(y_test3, rf_classif_pred))"
      ],
      "execution_count": null,
      "outputs": [
        {
          "name": "stdout",
          "output_type": "stream",
          "text": [
            "--------------- Train Set ----------------\n",
            "              precision    recall  f1-score   support\n",
            "\n",
            "           1       0.65      0.81      0.72      4481\n",
            "           2       0.59      0.43      0.50      3279\n",
            "           3       0.00      0.00      0.00        32\n",
            "           4       0.00      0.00      0.00       143\n",
            "           5       0.00      0.00      0.00         1\n",
            "\n",
            "    accuracy                           0.63      7936\n",
            "   macro avg       0.25      0.25      0.24      7936\n",
            "weighted avg       0.61      0.63      0.61      7936\n",
            "\n",
            "--------------- Test Set ----------------\n",
            "              precision    recall  f1-score   support\n",
            "\n",
            "           1       0.63      0.80      0.71      1105\n",
            "           2       0.57      0.40      0.47       832\n",
            "           3       0.00      0.00      0.00         7\n",
            "           4       0.00      0.00      0.00        40\n",
            "\n",
            "    accuracy                           0.61      1984\n",
            "   macro avg       0.30      0.30      0.29      1984\n",
            "weighted avg       0.59      0.61      0.59      1984\n",
            "\n"
          ]
        }
      ]
    },
    {
      "cell_type": "code",
      "metadata": {
        "id": "Cqpe2okKWSvH"
      },
      "source": [
        "model_set = pd.concat([pd.DataFrame(X_transform.inverse_transform(X_test3), columns = {\"idx_model\"}),\n",
        "           pd.DataFrame(rf_classif_pred, columns = {\"pred\"}),\n",
        "           pd.DataFrame(rf_classif_train,columns = {\"actuel\"})\n",
        "           ], axis = 1)"
      ],
      "execution_count": null,
      "outputs": []
    },
    {
      "cell_type": "code",
      "metadata": {
        "colab": {
          "base_uri": "https://localhost:8080/"
        },
        "id": "StyJ3Tq1WSvI",
        "outputId": "b867170e-3ea1-4308-8be2-aa60e0796de6"
      },
      "source": [
        "model_set[model_set[\"pred\"] == model_set[\"actuel\"]].drop_duplicates()[\"pred\"].value_counts()#[model_set[\"pred\"] == \"nbyte_streaming++\"]"
      ],
      "execution_count": null,
      "outputs": [
        {
          "data": {
            "text/plain": [
              "1.00    132\n",
              "2.00     29\n",
              "Name: pred, dtype: int64"
            ]
          },
          "execution_count": 215,
          "metadata": {
            "tags": []
          },
          "output_type": "execute_result"
        }
      ]
    },
    {
      "cell_type": "code",
      "metadata": {
        "id": "ro2Pto-eWqyT"
      },
      "source": [
        ""
      ],
      "execution_count": null,
      "outputs": []
    }
  ]
}